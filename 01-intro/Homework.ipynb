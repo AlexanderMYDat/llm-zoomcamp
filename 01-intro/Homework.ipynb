{
 "cells": [
  {
   "cell_type": "code",
   "execution_count": 1,
   "id": "22bf226a-85ca-480b-a72f-07e2876d399f",
   "metadata": {},
   "outputs": [],
   "source": [
    "import openai\n",
    "from openai import OpenAI\n",
    "client = OpenAI()\n",
    "response = client.chat.completions.create(\n",
    "    model='gpt-4o',\n",
    "    messages=[{\"role\":\"user\",\"content\":\"This is my first API Call. What do you think?\"}]\n",
    ")"
   ]
  },
  {
   "cell_type": "code",
   "execution_count": 2,
   "id": "9b2dc5e4-ace6-4701-bbe1-e000e5288b17",
   "metadata": {},
   "outputs": [
    {
     "name": "stdout",
     "output_type": "stream",
     "text": [
      "That's great! Making your first API call is a significant step in becoming proficient with web services and integrations. Here are a few things to consider to ensure everything goes smoothly:\n",
      "\n",
      "1. **Understand the API Documentation**: Make sure you understand the endpoints, request methods (GET, POST, PUT, DELETE), authentication methods, and response formats provided by the API documentation.\n",
      "\n",
      "2. **Authentication**: Many APIs require an API key or some form of authentication. Ensure that you're securely handling credentials and not exposing them in your code or URL.\n",
      "\n",
      "3. **Testing and Debugging**: Use tools like Postman or cURL to test your API calls. These tools help you debug the requests and understand the responses.\n",
      "\n",
      "4. **Error Handling**: Implement error handling in your application to gracefully manage any issues like timeouts, rate limits, or unexpected responses from the API.\n",
      "\n",
      "5. **Data Parsing**: Make sure you can correctly parse the response data, which is typically in JSON or XML format.\n",
      "\n",
      "6. **Rate Limiting**: Be aware of the API's rate limits and ensure your application adheres to them to prevent any service disruptions.\n",
      "\n",
      "7. **Security**: Keep your application secure by not hardcoding sensitive information and implementing best practices to protect your data.\n",
      "\n",
      "If you have specific details or questions about your API call, feel free to share them, and I can help further!\n"
     ]
    }
   ],
   "source": [
    "print(response.choices[0].message.content)"
   ]
  },
  {
   "cell_type": "code",
   "execution_count": null,
   "id": "ce7bcf47-4189-4b9d-9bbe-36bc547281dc",
   "metadata": {},
   "outputs": [],
   "source": []
  }
 ],
 "metadata": {
  "kernelspec": {
   "display_name": "Python 3 (ipykernel)",
   "language": "python",
   "name": "python3"
  },
  "language_info": {
   "codemirror_mode": {
    "name": "ipython",
    "version": 3
   },
   "file_extension": ".py",
   "mimetype": "text/x-python",
   "name": "python",
   "nbconvert_exporter": "python",
   "pygments_lexer": "ipython3",
   "version": "3.12.1"
  }
 },
 "nbformat": 4,
 "nbformat_minor": 5
}
